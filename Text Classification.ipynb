{
 "cells": [
  {
   "cell_type": "markdown",
   "metadata": {
    "nbpresent": {
     "id": "20939528-7a91-4b83-84ea-f16222bfb4bb"
    }
   },
   "source": [
    "This code was origionally written by Bryce Steslicki as part of an exploration into using AI to classify spend.\n",
    "\n",
    "\n",
    "To Do:\n",
    "- Use NLTK to refine the text\n",
    "- Incorporate the text cleaning into the pipeline<br><b>I wrote code to lemmatize the data before running it into the pipeline.  It took too long to run it as part of the pipeline, probably because I didnt know what I was doing.</b>\n",
    "\n",
    "- Incorporate other features into the model, like price or customer name/department\n",
    "- More data and more classes\n",
    "- visualization\n",
    "- add the tfidf Transform\n",
    "<b>Did this and it seems to improve the results slightly.</b>\n",
    "- add code to identify mis-classified training data\n",
    "- add a title and documentation paragraph to remind us what the hell this is and why we did it.\n",
    "- find metrics regarding variance vs. bias."
   ]
  },
  {
   "cell_type": "code",
   "execution_count": null,
   "metadata": {
    "nbpresent": {
     "id": "5070c908-abec-4810-972c-e5ef0fe9220e"
    }
   },
   "outputs": [],
   "source": [
    "## Import all necessary modules and define our test and training sets.\n",
    "import sklearn\n",
    "from sklearn.feature_extraction.text import CountVectorizer\n",
    "from sklearn.feature_extraction.text import TfidfTransformer\n",
    "from sklearn.grid_search import GridSearchCV\n",
    "from sklearn.ensemble import RandomForestClassifier\n",
    "from sklearn.ensemble import AdaBoostClassifier\n",
    "from sklearn.cross_validation import train_test_split\n",
    "from sklearn.naive_bayes import MultinomialNB\n",
    "from sklearn.pipeline import Pipeline\n",
    "from sklearn.svm import SVC\n",
    "import pandas as pd\n",
    "import numpy as np\n",
    "import platform\n",
    "from pprint import pprint\n",
    "from time import time\n",
    "from nltk import word_tokenize          \n",
    "import nltk\n",
    "from nltk.stem import WordNetLemmatizer\n",
    "\n",
    "#Print the version of software Used\n",
    "print('Python version:', platform.python_version())\n",
    "print('pandas version:', pd.__version__)\n",
    "print('Numpy version:', np.version.version)\n",
    "print('Scikit-learn version:', sklearn.__version__)\n",
    "\n",
    "#Set the graphing setting\n",
    "%matplotlib inline"
   ]
  },
  {
   "cell_type": "code",
   "execution_count": null,
   "metadata": {
    "nbpresent": {
     "id": "56b7372e-91ed-4155-9d9f-e4631ccd48b1"
    }
   },
   "outputs": [],
   "source": [
    "#Import the data and format it -- engine='c' makes it faster.\n",
    "description = pd.read_table('DataSets/Descriptions.txt', header=None, names=['Description','Class'], engine='c')\n",
    "\n",
    "#remove nonAlpha characters and set to lower case\n",
    "description['Clean'] = description['Description'].str.replace('[\\W\\s0-9]+', ' ').str.lower()\n",
    "\n",
    "#lemmatize the clean descriptions\n",
    "wordnet_lemmatizer = WordNetLemmatizer()       \n",
    "description['Clean'] = description['Clean'].apply(lambda x: ' '.join([wordnet_lemmatizer.lemmatize(y) for y in x.split()]))\n",
    "        \n",
    "#Print out an example of the data\n",
    "description.head(2)\n"
   ]
  },
  {
   "cell_type": "code",
   "execution_count": null,
   "metadata": {},
   "outputs": [],
   "source": [
    "X_train, X_test, y_train, y_test = train_test_split(\n",
    "    description['Clean'], description['Class'], test_size=0.4, random_state=0)\n",
    "\n",
    "\n",
    "#now that we have clean data, build a pipeline and use it\n",
    "pipeline = Pipeline([\n",
    "    ('vect', CountVectorizer()),\n",
    "    ('tfidf', TfidfTransformer()),\n",
    "    ('clf', RandomForestClassifier()),\n",
    "    #('clf', MultinomialNB())\n",
    "    #('clf', AdaBoostClassifier())\n",
    "    #('clf', SVC())\n",
    "])\n",
    "\n",
    "#Use this dictonary to set the parameters of the various parts of the pipeline\n",
    "parameters = {\n",
    "    'vect__max_df': [0.25, 0.5],\n",
    "    'vect__min_df': [0.00025, 0.0005],\n",
    "    'vect__analyzer': ['word'],\n",
    "    'vect__stop_words': ['english'],\n",
    "    'vect__max_features': [500, 1000, 2000],\n",
    "    'clf__n_estimators': [25, 100, 250] #RandomForest\n",
    "#    'clf__alpha': [.50,.75,1], #MultinomialNB\n",
    "#    'clf__fit_prior': [True,False] #MultinomialNB\n",
    "#    'clf__C': [.25, .5, .75, 1],\n",
    "#    'clf__kernel': ['linear'],\n",
    "#    'clf__probability': [True]\n",
    "}\n",
    "\n",
    "#This is the part that actually runs the model\n",
    "if __name__ == \"__main__\":\n",
    "    # find the best parameters for both the feature extraction and the\n",
    "    # classifier\n",
    "    grid_search = GridSearchCV(pipeline, parameters, n_jobs=3, verbose=1)\n",
    "\n",
    "    print(\"Performing grid search...\")\n",
    "    print(\"pipeline:\", [name for name, _ in pipeline.steps])\n",
    "    print(\"parameters:\")\n",
    "    pprint(parameters)\n",
    "    t0 = time()\n",
    "    grid_search.fit(X_train, y_train)\n",
    "    print(\"done in %0.3fs\" % (time() - t0))\n",
    "    print()\n",
    "\n",
    "    print(\"Best training score: %0.3f\" % grid_search.best_score_)\n",
    "    print(\"Best parameters set:\")\n",
    "    best_parameters = grid_search.best_estimator_.get_params()\n",
    "    for param_name in sorted(parameters.keys()):\n",
    "        print(\"\\t%s: %r\" % (param_name, best_parameters[param_name]))\n",
    "    print()\n",
    "    print('Testing Set Accuracy Score: %0.3f' % grid_search.score(X_test,y_test))"
   ]
  },
  {
   "cell_type": "code",
   "execution_count": null,
   "metadata": {
    "nbpresent": {
     "id": "15a7d6d0-992d-4a1b-ad9f-931120646d1d"
    }
   },
   "outputs": [],
   "source": [
    "# Use pandas to write the comma-separated output file\n",
    "output.to_csv( \"Bag_of_Words_model.csv\", index=False, quoting=3, escapechar='\\\\' )"
   ]
  }
 ],
 "metadata": {
  "anaconda-cloud": {},
  "kernelspec": {
   "display_name": "Python 3",
   "language": "python",
   "name": "python3"
  },
  "language_info": {
   "codemirror_mode": {
    "name": "ipython",
    "version": 3
   },
   "file_extension": ".py",
   "mimetype": "text/x-python",
   "name": "python",
   "nbconvert_exporter": "python",
   "pygments_lexer": "ipython3",
   "version": "3.7.11"
  },
  "nbpresent": {
   "slides": {
    "30928889-96d8-4002-ba09-c7f9e649423d": {
     "id": "30928889-96d8-4002-ba09-c7f9e649423d",
     "prev": "ace14a01-4f45-455e-92bc-457290a62be6",
     "regions": {
      "9b0ca682-130e-44b5-ba54-9e9a29e335f5": {
       "attrs": {
        "height": 0.8,
        "width": 0.8,
        "x": 0.1,
        "y": 0.1
       },
       "content": {
        "cell": "2335696b-5e28-4483-8463-46b827811efe",
        "part": "whole"
       },
       "id": "9b0ca682-130e-44b5-ba54-9e9a29e335f5"
      }
     }
    },
    "32c28065-07de-4999-bf26-08c3b45b9c10": {
     "id": "32c28065-07de-4999-bf26-08c3b45b9c10",
     "prev": "30928889-96d8-4002-ba09-c7f9e649423d",
     "regions": {
      "a9f34028-d236-4def-b3b5-aecc2321db58": {
       "attrs": {
        "height": 0.8,
        "width": 0.8,
        "x": 0.1,
        "y": 0.1
       },
       "content": {
        "cell": "c43cc203-851a-4b3d-a995-4886b7c0722f",
        "part": "whole"
       },
       "id": "a9f34028-d236-4def-b3b5-aecc2321db58"
      }
     }
    },
    "386ed16e-1fd3-4dfc-8d48-5ba069f27f2c": {
     "id": "386ed16e-1fd3-4dfc-8d48-5ba069f27f2c",
     "prev": "c6ff4829-3956-4f8b-8730-a1793678ecd5",
     "regions": {
      "f9b03421-aa80-487e-8acb-2a98de4b31a2": {
       "attrs": {
        "height": 0.8,
        "width": 0.8,
        "x": 0.1,
        "y": 0.1
       },
       "content": {
        "cell": "5070c908-abec-4810-972c-e5ef0fe9220e",
        "part": "whole"
       },
       "id": "f9b03421-aa80-487e-8acb-2a98de4b31a2"
      }
     }
    },
    "4a618f7c-23fd-4cb4-aa7b-6100661a1745": {
     "id": "4a618f7c-23fd-4cb4-aa7b-6100661a1745",
     "prev": "386ed16e-1fd3-4dfc-8d48-5ba069f27f2c",
     "regions": {
      "a74e4f3e-bcba-4ff7-928a-16508f26fa93": {
       "attrs": {
        "height": 0.8,
        "width": 0.8,
        "x": 0.1,
        "y": 0.1
       },
       "content": {
        "cell": "56b7372e-91ed-4155-9d9f-e4631ccd48b1",
        "part": "whole"
       },
       "id": "a74e4f3e-bcba-4ff7-928a-16508f26fa93"
      }
     }
    },
    "6ae7d782-aeab-4bff-adf0-31610215199d": {
     "id": "6ae7d782-aeab-4bff-adf0-31610215199d",
     "prev": "e153f478-087f-48ad-8ce5-ca2b4f2cf725",
     "regions": {
      "76aa9955-262c-44f1-a8d0-f0ccdcb5a00e": {
       "attrs": {
        "height": 0.8,
        "width": 0.8,
        "x": 0.1,
        "y": 0.1
       },
       "content": {
        "cell": "ea830bd6-6636-443b-b5c8-64123e6d1c83",
        "part": "whole"
       },
       "id": "76aa9955-262c-44f1-a8d0-f0ccdcb5a00e"
      }
     }
    },
    "7b6767eb-1873-4d7a-9ba3-e24d2a37fd1f": {
     "id": "7b6767eb-1873-4d7a-9ba3-e24d2a37fd1f",
     "prev": "4a618f7c-23fd-4cb4-aa7b-6100661a1745",
     "regions": {
      "45da3455-54f7-4542-845e-6ff035b0af6e": {
       "attrs": {
        "height": 0.8,
        "width": 0.8,
        "x": 0.1,
        "y": 0.1
       },
       "content": {
        "cell": "5136bdfd-9b4f-47f6-b14d-c75290f80472",
        "part": "whole"
       },
       "id": "45da3455-54f7-4542-845e-6ff035b0af6e"
      }
     }
    },
    "a10ad4b5-8f9d-4884-b867-0b13741ff383": {
     "id": "a10ad4b5-8f9d-4884-b867-0b13741ff383",
     "prev": "32c28065-07de-4999-bf26-08c3b45b9c10",
     "regions": {
      "94d91b86-5d93-461e-b8d5-9cac9a12e1ce": {
       "attrs": {
        "height": 0.8,
        "width": 0.8,
        "x": 0.1,
        "y": 0.1
       },
       "content": {
        "cell": "15a7d6d0-992d-4a1b-ad9f-931120646d1d",
        "part": "whole"
       },
       "id": "94d91b86-5d93-461e-b8d5-9cac9a12e1ce"
      }
     }
    },
    "ace14a01-4f45-455e-92bc-457290a62be6": {
     "id": "ace14a01-4f45-455e-92bc-457290a62be6",
     "prev": "6ae7d782-aeab-4bff-adf0-31610215199d",
     "regions": {
      "5a6c6105-a6a4-4b6a-9b79-4a8969628ee4": {
       "attrs": {
        "height": 0.8,
        "width": 0.8,
        "x": 0.1,
        "y": 0.1
       },
       "content": {
        "cell": "57b61bd7-f283-454a-8e45-4e8a248b6bfa",
        "part": "whole"
       },
       "id": "5a6c6105-a6a4-4b6a-9b79-4a8969628ee4"
      }
     }
    },
    "c6ff4829-3956-4f8b-8730-a1793678ecd5": {
     "id": "c6ff4829-3956-4f8b-8730-a1793678ecd5",
     "prev": "ee5593d1-f595-4310-afcb-a808123b4c0f",
     "regions": {
      "4a85a960-c30e-47ee-ab6d-b8d1646802a3": {
       "attrs": {
        "height": 1,
        "width": 1,
        "x": 0,
        "y": 0
       },
       "content": {
        "cell": "5070c908-abec-4810-972c-e5ef0fe9220e",
        "part": "source"
       },
       "id": "4a85a960-c30e-47ee-ab6d-b8d1646802a3"
      }
     }
    },
    "e153f478-087f-48ad-8ce5-ca2b4f2cf725": {
     "id": "e153f478-087f-48ad-8ce5-ca2b4f2cf725",
     "prev": "7b6767eb-1873-4d7a-9ba3-e24d2a37fd1f",
     "regions": {
      "0eba8989-8636-41d3-b347-41e76e1f5aa9": {
       "attrs": {
        "height": 0.8,
        "width": 0.8,
        "x": 0.1,
        "y": 0.1
       },
       "content": {
        "cell": "7245b60c-bed1-49f4-814a-ca7f7001a2fd",
        "part": "whole"
       },
       "id": "0eba8989-8636-41d3-b347-41e76e1f5aa9"
      }
     }
    },
    "ee5593d1-f595-4310-afcb-a808123b4c0f": {
     "id": "ee5593d1-f595-4310-afcb-a808123b4c0f",
     "prev": null,
     "regions": {
      "91cf8cbf-bedf-4a2c-87ad-33e8a8a2ec97": {
       "attrs": {
        "height": 0.8,
        "width": 0.8,
        "x": 0.1,
        "y": 0.1
       },
       "content": {
        "cell": "20939528-7a91-4b83-84ea-f16222bfb4bb",
        "part": "whole"
       },
       "id": "91cf8cbf-bedf-4a2c-87ad-33e8a8a2ec97"
      }
     }
    }
   },
   "themes": {}
  }
 },
 "nbformat": 4,
 "nbformat_minor": 1
}
